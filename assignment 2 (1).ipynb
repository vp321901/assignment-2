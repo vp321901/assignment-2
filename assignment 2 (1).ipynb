{
 "cells": [
  {
   "cell_type": "code",
   "execution_count": null,
   "id": "62652c93-9d35-42f1-9dfc-f8c8a3b679cc",
   "metadata": {},
   "outputs": [],
   "source": [
    "                  #Answer:1\n",
    "    \n",
    "    Comments in Python are identified with a hash symbol, #, and extend to the end of the line.\n",
    "    Hash characters in a string are not considered comments,\n",
    "    However. There are three ways to write a comment - \n",
    "    1- as a separate line, \n",
    "    2- as a multi-line,\n",
    "    3- as a docstring comments"
   ]
  },
  {
   "cell_type": "code",
   "execution_count": null,
   "id": "76898f65-ff0e-4194-88ba-ffc942d1b1b1",
   "metadata": {},
   "outputs": [],
   "source": [
    "                 #Answer:2\n",
    "    \n",
    "    A Python variable is a symbolic name that is a reference or pointer to an object.\n",
    "    Once an object is assigned to a variable, you can refer to the object by that name. \n",
    "    The first time a variable is assigned a value, it is said to be initialised,\n",
    "    The = symbol is known as the assignment operator. \n",
    "    It is also possible to declare a variable and assign it a value in the same line, \n",
    "    so instead of int i and then i = 9 you can write int i = 9 all in one go"
   ]
  },
  {
   "cell_type": "code",
   "execution_count": null,
   "id": "4d6a7e87-babd-4f61-88f6-ef2b6f25d1ef",
   "metadata": {},
   "outputs": [],
   "source": [
    "                 #Answer:3\n",
    "    \n",
    "    To convert between types, you simply use the type name as a function.\n",
    "    There are several built-in functions to perform conversion from one data type to another. \n",
    "    These functions return a new object representing the converted value."
   ]
  },
  {
   "cell_type": "code",
   "execution_count": null,
   "id": "60bb6775-8a04-46cd-b0dc-b8b4c43b3bff",
   "metadata": {},
   "outputs": [],
   "source": [
    "                 #Answer:4\n",
    "    \n",
    "    To run Python scripts with the python command, you need to open a command-line and type in the word python, \n",
    "    or python3 if you have both versions, followed by the path to your script, just like this:\n",
    "      $ python3 hello.py\n",
    "      Hello World!\n",
    "    If everything works okay, after you press Enter, you’ll see the phrase Hello World! on your screen. \n",
    "    That’s it! You’ve just run your first Python script!\n",
    "    This is the most basic and practical way to run Python scripts"
   ]
  },
  {
   "cell_type": "code",
   "execution_count": 6,
   "id": "929f7af7-6856-41a5-8fbd-a3b668e359bb",
   "metadata": {},
   "outputs": [
    {
     "name": "stdout",
     "output_type": "stream",
     "text": [
      "[1, 2, 3, 4, 5]\n",
      "[2, 3]\n"
     ]
    }
   ],
   "source": [
    "                 #Answer:5\n",
    "    \n",
    "my_list = [1, 2, 3, 4, 5]\n",
    "print(my_list[:])\n",
    "print(my_list[1:3])"
   ]
  },
  {
   "cell_type": "code",
   "execution_count": null,
   "id": "cb34fd97-14b1-4541-9504-e3d4f380d93f",
   "metadata": {},
   "outputs": [],
   "source": [
    "                 #Answer:6\n",
    "    \n",
    "    Complex numbers are the numbers that are expressed in the form of a+ib where,\n",
    "    a,b are real numbers and 'i' is an imaginary number called “iota”. \n",
    "    Let’s see the syntax of the complex function:\n",
    "          complex([real[, imag]])\n",
    "    Ex: (2+5j)"
   ]
  },
  {
   "cell_type": "code",
   "execution_count": null,
   "id": "fc1f250f-1b9d-4d02-80a2-fd1591ce6e46",
   "metadata": {},
   "outputs": [],
   "source": [
    "                 #Answer:7\n",
    "    \n",
    "    int age = 25;\n",
    "    In this example, a variable named age of type int is declared and assigned an initial value of 25."
   ]
  },
  {
   "cell_type": "code",
   "execution_count": 8,
   "id": "ab5d1ebc-83f6-4dcc-8b78-e36a21b7f562",
   "metadata": {},
   "outputs": [
    {
     "data": {
      "text/plain": [
       "float"
      ]
     },
     "execution_count": 8,
     "metadata": {},
     "output_type": "execute_result"
    }
   ],
   "source": [
    "                 #Answer:8\n",
    "    \n",
    "price=9.99\n",
    "type(price)"
   ]
  },
  {
   "cell_type": "code",
   "execution_count": 17,
   "id": "cc7c47c8-a46b-42c3-a0ca-95be530d0126",
   "metadata": {},
   "outputs": [
    {
     "name": "stdout",
     "output_type": "stream",
     "text": [
      "Tushar Singh\n"
     ]
    }
   ],
   "source": [
    "                 #Answer:9 \n",
    "    \n",
    "name='Tushar Singh'\n",
    "print(name)"
   ]
  },
  {
   "cell_type": "code",
   "execution_count": 18,
   "id": "c6aab65e-e83e-40f2-9f56-95ed28b66f3e",
   "metadata": {},
   "outputs": [
    {
     "name": "stdout",
     "output_type": "stream",
     "text": [
      "World\n"
     ]
    }
   ],
   "source": [
    "                 #Answer:10\n",
    "    \n",
    "string =\"Hello, World!\"\n",
    "print(string[7:12])"
   ]
  },
  {
   "cell_type": "code",
   "execution_count": 20,
   "id": "7fffffb1-c6ce-4101-be09-99167ff83f1e",
   "metadata": {},
   "outputs": [],
   "source": [
    "                #Answer:11 \n",
    "    \n",
    "    # Boolean variable\n",
    "    \n",
    "is_student = True\n",
    "is_teacher = False    \n",
    "    "
   ]
  }
 ],
 "metadata": {
  "kernelspec": {
   "display_name": "Python 3 (ipykernel)",
   "language": "python",
   "name": "python3"
  },
  "language_info": {
   "codemirror_mode": {
    "name": "ipython",
    "version": 3
   },
   "file_extension": ".py",
   "mimetype": "text/x-python",
   "name": "python",
   "nbconvert_exporter": "python",
   "pygments_lexer": "ipython3",
   "version": "3.10.8"
  }
 },
 "nbformat": 4,
 "nbformat_minor": 5
}
